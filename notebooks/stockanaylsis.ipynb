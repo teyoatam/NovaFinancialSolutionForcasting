{
 "cells": [
  {
   "cell_type": "code",
   "execution_count": 2,
   "metadata": {},
   "outputs": [],
   "source": [
    "import yfinance as yf\n",
    "\n",
    "import pandas as pd\n",
    "import matplotlib.pyplot as plt\n",
    "import plotly.express as px\n",
    "\n",
    "from datetime import datetime , timedelta"
   ]
  },
  {
   "cell_type": "code",
   "execution_count": 5,
   "metadata": {},
   "outputs": [
    {
     "name": "stdout",
     "output_type": "stream",
     "text": [
      "Initial Data:\n",
      "         Date      Open      High       Low     Close  Adj Close     Volume  \\\n",
      "0  1980-12-12  0.128348  0.128906  0.128348  0.128348   0.098943  469033600   \n",
      "1  1980-12-15  0.122210  0.122210  0.121652  0.121652   0.093781  175884800   \n",
      "2  1980-12-16  0.113281  0.113281  0.112723  0.112723   0.086898  105728000   \n",
      "3  1980-12-17  0.115513  0.116071  0.115513  0.115513   0.089049   86441600   \n",
      "4  1980-12-18  0.118862  0.119420  0.118862  0.118862   0.091630   73449600   \n",
      "\n",
      "   Dividends  Stock Splits  \n",
      "0        0.0           0.0  \n",
      "1        0.0           0.0  \n",
      "2        0.0           0.0  \n",
      "3        0.0           0.0  \n",
      "4        0.0           0.0  \n"
     ]
    }
   ],
   "source": [
    "stock_df = pd.read_csv('../data/yfinance_data/AAPL_historical_data.csv')  # Replace with your actual CSV file path\n",
    "\n",
    "# Display the first few rows of the DataFrame\n",
    "print(\"Initial Data:\")\n",
    "print(stock_df.head())"
   ]
  },
  {
   "cell_type": "code",
   "execution_count": 6,
   "metadata": {},
   "outputs": [
    {
     "name": "stdout",
     "output_type": "stream",
     "text": [
      "\n",
      "Missing Values:\n",
      "Date            0\n",
      "Open            0\n",
      "High            0\n",
      "Low             0\n",
      "Close           0\n",
      "Adj Close       0\n",
      "Volume          0\n",
      "Dividends       0\n",
      "Stock Splits    0\n",
      "dtype: int64\n"
     ]
    }
   ],
   "source": [
    "# Check for missing values\n",
    "print(\"\\nMissing Values:\")\n",
    "print(stock_df.isnull().sum())"
   ]
  },
  {
   "cell_type": "code",
   "execution_count": 7,
   "metadata": {},
   "outputs": [],
   "source": [
    "# Convert the 'date' column to datetime format if it exists\n",
    "if 'date' in stock_df.columns:\n",
    "    stock_df['date'] = pd.to_datetime(stock_df['date'])\n",
    "    stock_df.set_index('date', inplace=True)  # Set date as index"
   ]
  },
  {
   "cell_type": "code",
   "execution_count": 8,
   "metadata": {},
   "outputs": [
    {
     "name": "stdout",
     "output_type": "stream",
     "text": [
      "\n",
      "Basic Statistics:\n",
      "               Open          High           Low         Close     Adj Close  \\\n",
      "count  10998.000000  10998.000000  10998.000000  10998.000000  10998.000000   \n",
      "mean      22.299160     22.539055     22.068367     22.312754     21.494496   \n",
      "std       46.003685     46.496031     45.540929     46.037660     45.561916   \n",
      "min        0.049665      0.049665      0.049107      0.049107      0.037857   \n",
      "25%        0.299107      0.303710      0.290179      0.298549      0.241840   \n",
      "50%        0.531250      0.537946      0.522321      0.531250      0.432079   \n",
      "75%       20.204196     20.389554     19.998036     20.196160     17.253029   \n",
      "max      236.479996    237.229996    233.089996    234.820007    234.548523   \n",
      "\n",
      "             Volume     Dividends  Stock Splits  \n",
      "count  1.099800e+04  10998.000000  10998.000000  \n",
      "mean   3.180806e+08      0.000752      0.001546  \n",
      "std    3.354523e+08      0.011753      0.083663  \n",
      "min    0.000000e+00      0.000000      0.000000  \n",
      "25%    1.132545e+08      0.000000      0.000000  \n",
      "50%    2.057412e+08      0.000000      0.000000  \n",
      "75%    3.985275e+08      0.000000      0.000000  \n",
      "max    7.421641e+09      0.250000      7.000000  \n",
      "\n",
      "DataFrame Structure:\n",
      "<class 'pandas.core.frame.DataFrame'>\n",
      "RangeIndex: 10998 entries, 0 to 10997\n",
      "Data columns (total 9 columns):\n",
      " #   Column        Non-Null Count  Dtype  \n",
      "---  ------        --------------  -----  \n",
      " 0   Date          10998 non-null  object \n",
      " 1   Open          10998 non-null  float64\n",
      " 2   High          10998 non-null  float64\n",
      " 3   Low           10998 non-null  float64\n",
      " 4   Close         10998 non-null  float64\n",
      " 5   Adj Close     10998 non-null  float64\n",
      " 6   Volume        10998 non-null  int64  \n",
      " 7   Dividends     10998 non-null  float64\n",
      " 8   Stock Splits  10998 non-null  float64\n",
      "dtypes: float64(7), int64(1), object(1)\n",
      "memory usage: 773.4+ KB\n",
      "None\n"
     ]
    }
   ],
   "source": [
    "\n",
    "# Ensure the DataFrame has the required columns\n",
    "required_columns = ['Open', 'High', 'Low', 'Close', 'Volume']\n",
    "for column in required_columns:\n",
    "    if column not in stock_df.columns:\n",
    "        raise ValueError(f\"Missing required column: {column}\")\n",
    "\n",
    "# Display basic statistics of the DataFrame\n",
    "print(\"\\nBasic Statistics:\")\n",
    "print(stock_df.describe())\n",
    "\n",
    "# Display the DataFrame structure\n",
    "print(\"\\nDataFrame Structure:\")\n",
    "print(stock_df.info())"
   ]
  }
 ],
 "metadata": {
  "kernelspec": {
   "display_name": "Python 3",
   "language": "python",
   "name": "python3"
  },
  "language_info": {
   "codemirror_mode": {
    "name": "ipython",
    "version": 3
   },
   "file_extension": ".py",
   "mimetype": "text/x-python",
   "name": "python",
   "nbconvert_exporter": "python",
   "pygments_lexer": "ipython3",
   "version": "3.12.5"
  }
 },
 "nbformat": 4,
 "nbformat_minor": 2
}
